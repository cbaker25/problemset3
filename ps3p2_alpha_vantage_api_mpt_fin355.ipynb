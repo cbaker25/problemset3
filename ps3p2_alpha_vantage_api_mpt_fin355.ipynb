{
 "cells": [
  {
   "cell_type": "markdown",
   "metadata": {},
   "source": [
    "## Problem Set 3 (Part 2 of 2): Interacting with the Alpha Vantage API using Python libraries"
   ]
  },
  {
   "cell_type": "markdown",
   "metadata": {},
   "source": [
    "In Part 2 of Problem Set 3 we will be using the data retrived from the Alpha Vantage API and creating an optimized portfolio of stocks based on Modern Portfolio Theory. The PyPortfolioOpt package will be used to optimize a portfolio of stocks based maximizing the Sharpe Ratio. This exercise is an example of how a robo-advisor would use data APIs to continuously monitor and adjusts stock portfolios. \n",
    "\n",
    "This part of the exercise demonstrates:\n",
    "\n",
    "1. Setting up a programming environment to work with APIs\n",
    "2. Data preprocessing to create compatible datasets\n",
    "3. Using a quantititive popular portfolio optimization library to estimate risks and weights\n",
    "\n",
    "Documentation links:\n",
    "<br />Alpha Vantage: https://www.alphavantage.co/documentation/\n",
    "<br />Alpha Vantage Python library: https://alpha-vantage.readthedocs.io/en/latest/#\n",
    "<br />Pandas DataFrame: https://pandas.pydata.org/pandas-docs/stable/reference/frame.html\n",
    "<br />PyPortfolioOpt: https://pyportfolioopt.readthedocs.io/en/latest/index.html"
   ]
  },
  {
   "cell_type": "code",
   "execution_count": 1,
   "metadata": {},
   "outputs": [],
   "source": [
    "api_key = \"1QX63ANN8QZG7HF7\""
   ]
  },
  {
   "cell_type": "code",
   "execution_count": 2,
   "metadata": {},
   "outputs": [],
   "source": [
    "import pandas as pd\n",
    "import requests\n",
    "from alpha_vantage.timeseries import TimeSeries\n",
    "import matplotlib.pyplot as plt\n",
    "\n",
    "# PyPortfolioOpt libraries\n",
    "from pypfopt.efficient_frontier import EfficientFrontier\n",
    "from pypfopt import risk_models\n",
    "from pypfopt import expected_returns\n",
    "from pypfopt.discrete_allocation import DiscreteAllocation, get_latest_prices"
   ]
  },
  {
   "cell_type": "code",
   "execution_count": 3,
   "metadata": {},
   "outputs": [],
   "source": [
    "ts = TimeSeries(key=api_key,output_format='pandas')"
   ]
  },
  {
   "cell_type": "code",
   "execution_count": 4,
   "metadata": {},
   "outputs": [],
   "source": [
    "fb_data, fb_meta_data = ts.get_daily(symbol='FB', outputsize='full')\n",
    "msft_data, msft_meta_data = ts.get_daily(symbol='MSFT', outputsize='full')\n",
    "aapl_data, aapl_meta_data = ts.get_daily(symbol='AAPL', outputsize='full')\n",
    "amzn_data, amzn_meta_data = ts.get_daily(symbol='AMZN', outputsize='full')"
   ]
  },
  {
   "cell_type": "markdown",
   "metadata": {},
   "source": [
    "Create new dataframe with tickers as columns:"
   ]
  },
  {
   "cell_type": "code",
   "execution_count": 5,
   "metadata": {},
   "outputs": [],
   "source": [
    "fb_clean = fb_data['4. close']\n",
    "msft_clean = msft_data['4. close']\n",
    "aapl_clean = aapl_data['4. close']\n",
    "amzn_clean = amzn_data['4. close']"
   ]
  },
  {
   "cell_type": "code",
   "execution_count": 6,
   "metadata": {},
   "outputs": [],
   "source": [
    "df = pd.DataFrame(columns = ['fb', 'msft', 'aapl', 'amzn'])"
   ]
  },
  {
   "cell_type": "markdown",
   "metadata": {},
   "source": [
    "Place data into new dataframe:"
   ]
  },
  {
   "cell_type": "code",
   "execution_count": 7,
   "metadata": {},
   "outputs": [],
   "source": [
    "df['fb'] = fb_clean\n",
    "df['msft'] = msft_clean\n",
    "df['aapl'] = aapl_clean\n",
    "df['fb'] = fb_clean"
   ]
  },
  {
   "cell_type": "markdown",
   "metadata": {},
   "source": [
    "Take only the earlist half of observations:"
   ]
  },
  {
   "cell_type": "code",
   "execution_count": 8,
   "metadata": {},
   "outputs": [],
   "source": [
    "df = df[0:924]"
   ]
  },
  {
   "cell_type": "markdown",
   "metadata": {},
   "source": [
    "Calculate expected returns:"
   ]
  },
  {
   "cell_type": "code",
   "execution_count": 9,
   "metadata": {},
   "outputs": [
    {
     "name": "stdout",
     "output_type": "stream",
     "text": [
      "                 fb    msft     aapl amzn\n",
      "date                                     \n",
      "2012-05-18   38.232  29.270  530.380  NaN\n",
      "2012-05-21   34.030  29.750  561.280  NaN\n",
      "2012-05-22   31.000  29.760  556.970  NaN\n",
      "2012-05-23   32.000  29.110  570.560  NaN\n",
      "2012-05-24   33.030  29.070  565.320  NaN\n",
      "2012-05-25   31.910  29.060  562.290  NaN\n",
      "2012-05-29   28.840  29.560  572.270  NaN\n",
      "2012-05-30   28.190  29.340  579.170  NaN\n",
      "2012-05-31   29.600  29.190  577.730  NaN\n",
      "2012-06-01   27.720  28.450  560.990  NaN\n",
      "2012-06-04   26.900  28.550  564.290  NaN\n",
      "2012-06-05   25.869  28.505  562.830  NaN\n",
      "2012-06-06   26.810  29.350  571.460  NaN\n",
      "2012-06-07   26.310  29.230  571.720  NaN\n",
      "2012-06-08   27.100  29.650  580.320  NaN\n",
      "2012-06-11   27.005  28.895  571.170  NaN\n",
      "2012-06-12   27.400  29.290  576.160  NaN\n",
      "2012-06-13   27.270  29.130  572.160  NaN\n",
      "2012-06-14   28.290  29.340  571.530  NaN\n",
      "2012-06-15   30.014  30.020  574.130  NaN\n",
      "2012-06-18   31.410  29.840  585.780  NaN\n",
      "2012-06-19   31.911  30.700  587.410  NaN\n",
      "2012-06-20   31.600  30.930  585.741  NaN\n",
      "2012-06-21   31.840  30.135  577.670  NaN\n",
      "2012-06-22   33.050  30.700  582.100  NaN\n",
      "2012-06-25   32.060  29.865  570.765  NaN\n",
      "2012-06-26   33.100  30.020  572.025  NaN\n",
      "2012-06-27   32.230  30.170  574.500  NaN\n",
      "2012-06-28   31.360  29.910  569.050  NaN\n",
      "2012-06-29   31.095  30.590  584.000  NaN\n",
      "...             ...     ...      ...  ...\n",
      "2015-12-08  106.490  55.790  118.230  NaN\n",
      "2015-12-09  104.600  54.980  115.620  NaN\n",
      "2015-12-10  105.420  55.270  116.170  NaN\n",
      "2015-12-11  102.120  54.060  113.180  NaN\n",
      "2015-12-14  104.660  55.140  112.480  NaN\n",
      "2015-12-15  104.550  55.200  110.490  NaN\n",
      "2015-12-16  106.790  56.130  111.340  NaN\n",
      "2015-12-17  106.220  55.700  108.980  NaN\n",
      "2015-12-18  104.040  54.130  106.030  NaN\n",
      "2015-12-21  104.770  54.830  107.330  NaN\n",
      "2015-12-22  105.510  55.350  107.230  NaN\n",
      "2015-12-23  104.630  55.820  108.610  NaN\n",
      "2015-12-24  105.020  55.670  108.030  NaN\n",
      "2015-12-28  105.930  55.950  106.820  NaN\n",
      "2015-12-29  107.260  56.550  108.740  NaN\n",
      "2015-12-30  106.220  56.310  107.320  NaN\n",
      "2015-12-31  104.660  55.480  105.260  NaN\n",
      "2016-01-04  102.220  54.800  105.350  NaN\n",
      "2016-01-05  102.730  55.050  102.710  NaN\n",
      "2016-01-06  102.970  54.050  100.700  NaN\n",
      "2016-01-07   97.920  52.170   96.450  NaN\n",
      "2016-01-08   97.330  52.330   96.960  NaN\n",
      "2016-01-11   97.510  52.300   98.530  NaN\n",
      "2016-01-12   99.370  52.780   99.960  NaN\n",
      "2016-01-13   95.440  51.640   97.390  NaN\n",
      "2016-01-14   98.370  53.110   99.520  NaN\n",
      "2016-01-15   94.970  50.990   97.130  NaN\n",
      "2016-01-19   95.260  50.560   96.660  NaN\n",
      "2016-01-20   94.350  50.790   96.790  NaN\n",
      "2016-01-21   94.160  50.480   96.300  NaN\n",
      "\n",
      "[924 rows x 4 columns]\n"
     ]
    }
   ],
   "source": [
    "print(df)"
   ]
  },
  {
   "cell_type": "markdown",
   "metadata": {},
   "source": [
    "Calculate sample covariance matrix:"
   ]
  },
  {
   "cell_type": "code",
   "execution_count": 10,
   "metadata": {},
   "outputs": [],
   "source": [
    "mu = expected_returns.mean_historical_return(df)"
   ]
  },
  {
   "cell_type": "code",
   "execution_count": 11,
   "metadata": {},
   "outputs": [],
   "source": [
    "S = risk_models.sample_cov(df)"
   ]
  },
  {
   "cell_type": "markdown",
   "metadata": {},
   "source": [
    "Optimize the weights to maximzie the Sharpe Ratio:"
   ]
  },
  {
   "cell_type": "code",
   "execution_count": 12,
   "metadata": {},
   "outputs": [
    {
     "name": "stdout",
     "output_type": "stream",
     "text": [
      "            fb      msft      aapl  amzn\n",
      "fb    0.183263  0.018451  0.020780   NaN\n",
      "msft  0.018451  0.057307  0.020826   NaN\n",
      "aapl  0.020780  0.020826  0.269413   NaN\n",
      "amzn       NaN       NaN       NaN   NaN\n"
     ]
    }
   ],
   "source": [
    "print(S)"
   ]
  },
  {
   "cell_type": "code",
   "execution_count": 13,
   "metadata": {},
   "outputs": [
    {
     "name": "stdout",
     "output_type": "stream",
     "text": [
      "Expected annual return: nan%\n",
      "Annual volatility: nan%\n",
      "Sharpe Ratio: nan\n"
     ]
    },
    {
     "data": {
      "text/plain": [
       "(nan, nan, nan)"
      ]
     },
     "execution_count": 13,
     "metadata": {},
     "output_type": "execute_result"
    }
   ],
   "source": [
    "ef = EfficientFrontier(mu, S)\n",
    "weights = ef.max_sharpe()\n",
    "ef.portfolio_performance(verbose=True)"
   ]
  },
  {
   "cell_type": "code",
   "execution_count": 14,
   "metadata": {},
   "outputs": [
    {
     "name": "stdout",
     "output_type": "stream",
     "text": [
      "{'fb': nan, 'msft': nan, 'aapl': nan, 'amzn': nan}\n"
     ]
    }
   ],
   "source": [
    "print(weights)"
   ]
  },
  {
   "cell_type": "markdown",
   "metadata": {},
   "source": [
    "Using optimized weights, compute portfolio accolation:"
   ]
  },
  {
   "cell_type": "code",
   "execution_count": 15,
   "metadata": {
    "scrolled": true
   },
   "outputs": [
    {
     "name": "stdout",
     "output_type": "stream",
     "text": [
      "4 out of 4 tickers were removed\n"
     ]
    },
    {
     "ename": "IndexError",
     "evalue": "list index out of range",
     "output_type": "error",
     "traceback": [
      "\u001b[0;31m---------------------------------------------------------------------------\u001b[0m",
      "\u001b[0;31mIndexError\u001b[0m                                Traceback (most recent call last)",
      "\u001b[0;32m<ipython-input-15-8eb8740c2d26>\u001b[0m in \u001b[0;36m<module>\u001b[0;34m\u001b[0m\n\u001b[1;32m      1\u001b[0m \u001b[0mlatest_prices\u001b[0m \u001b[0;34m=\u001b[0m \u001b[0mget_latest_prices\u001b[0m\u001b[0;34m(\u001b[0m\u001b[0mdf\u001b[0m\u001b[0;34m)\u001b[0m\u001b[0;34m\u001b[0m\u001b[0;34m\u001b[0m\u001b[0m\n\u001b[1;32m      2\u001b[0m \u001b[0mda\u001b[0m \u001b[0;34m=\u001b[0m \u001b[0mDiscreteAllocation\u001b[0m\u001b[0;34m(\u001b[0m\u001b[0mweights\u001b[0m\u001b[0;34m,\u001b[0m \u001b[0mlatest_prices\u001b[0m\u001b[0;34m,\u001b[0m \u001b[0mtotal_portfolio_value\u001b[0m\u001b[0;34m=\u001b[0m\u001b[0;36m1000000\u001b[0m\u001b[0;34m)\u001b[0m\u001b[0;34m\u001b[0m\u001b[0;34m\u001b[0m\u001b[0m\n\u001b[0;32m----> 3\u001b[0;31m \u001b[0mallocation\u001b[0m\u001b[0;34m,\u001b[0m \u001b[0mleftover\u001b[0m \u001b[0;34m=\u001b[0m \u001b[0mda\u001b[0m\u001b[0;34m.\u001b[0m\u001b[0mgreedy_portfolio\u001b[0m\u001b[0;34m(\u001b[0m\u001b[0;34m)\u001b[0m\u001b[0;34m\u001b[0m\u001b[0;34m\u001b[0m\u001b[0m\n\u001b[0m\u001b[1;32m      4\u001b[0m \u001b[0mprint\u001b[0m\u001b[0;34m(\u001b[0m\u001b[0mallocation\u001b[0m\u001b[0;34m)\u001b[0m\u001b[0;34m\u001b[0m\u001b[0;34m\u001b[0m\u001b[0m\n",
      "\u001b[0;32m//anaconda3/lib/python3.7/site-packages/pypfopt/discrete_allocation.py\u001b[0m in \u001b[0;36mgreedy_portfolio\u001b[0;34m(self, verbose)\u001b[0m\n\u001b[1;32m    145\u001b[0m \u001b[0;34m\u001b[0m\u001b[0m\n\u001b[1;32m    146\u001b[0m         \u001b[0;31m# If portfolio contains shorts\u001b[0m\u001b[0;34m\u001b[0m\u001b[0;34m\u001b[0m\u001b[0;34m\u001b[0m\u001b[0m\n\u001b[0;32m--> 147\u001b[0;31m         \u001b[0;32mif\u001b[0m \u001b[0mself\u001b[0m\u001b[0;34m.\u001b[0m\u001b[0mweights\u001b[0m\u001b[0;34m[\u001b[0m\u001b[0;34m-\u001b[0m\u001b[0;36m1\u001b[0m\u001b[0;34m]\u001b[0m\u001b[0;34m[\u001b[0m\u001b[0;36m1\u001b[0m\u001b[0;34m]\u001b[0m \u001b[0;34m<\u001b[0m \u001b[0;36m0\u001b[0m\u001b[0;34m:\u001b[0m\u001b[0;34m\u001b[0m\u001b[0;34m\u001b[0m\u001b[0m\n\u001b[0m\u001b[1;32m    148\u001b[0m             \u001b[0mlongs\u001b[0m \u001b[0;34m=\u001b[0m \u001b[0;34m{\u001b[0m\u001b[0mt\u001b[0m\u001b[0;34m:\u001b[0m \u001b[0mw\u001b[0m \u001b[0;32mfor\u001b[0m \u001b[0mt\u001b[0m\u001b[0;34m,\u001b[0m \u001b[0mw\u001b[0m \u001b[0;32min\u001b[0m \u001b[0mself\u001b[0m\u001b[0;34m.\u001b[0m\u001b[0mweights\u001b[0m \u001b[0;32mif\u001b[0m \u001b[0mw\u001b[0m \u001b[0;34m>=\u001b[0m \u001b[0;36m0\u001b[0m\u001b[0;34m}\u001b[0m\u001b[0;34m\u001b[0m\u001b[0;34m\u001b[0m\u001b[0m\n\u001b[1;32m    149\u001b[0m             \u001b[0mshorts\u001b[0m \u001b[0;34m=\u001b[0m \u001b[0;34m{\u001b[0m\u001b[0mt\u001b[0m\u001b[0;34m:\u001b[0m \u001b[0;34m-\u001b[0m\u001b[0mw\u001b[0m \u001b[0;32mfor\u001b[0m \u001b[0mt\u001b[0m\u001b[0;34m,\u001b[0m \u001b[0mw\u001b[0m \u001b[0;32min\u001b[0m \u001b[0mself\u001b[0m\u001b[0;34m.\u001b[0m\u001b[0mweights\u001b[0m \u001b[0;32mif\u001b[0m \u001b[0mw\u001b[0m \u001b[0;34m<\u001b[0m \u001b[0;36m0\u001b[0m\u001b[0;34m}\u001b[0m\u001b[0;34m\u001b[0m\u001b[0;34m\u001b[0m\u001b[0m\n",
      "\u001b[0;31mIndexError\u001b[0m: list index out of range"
     ]
    }
   ],
   "source": [
    "latest_prices = get_latest_prices(df)\n",
    "da = DiscreteAllocation(weights, latest_prices, total_portfolio_value=1000000)\n",
    "allocation, leftover = da.greedy_portfolio()\n",
    "print(allocation)"
   ]
  },
  {
   "cell_type": "markdown",
   "metadata": {},
   "source": [
    "To update portfolio, call the API again for latest data and run optimization model again:"
   ]
  },
  {
   "cell_type": "code",
   "execution_count": 16,
   "metadata": {},
   "outputs": [],
   "source": [
    "fb_data, fb_meta_data = ts.get_daily(symbol='FB', outputsize='full')\n",
    "msft_data, msft_meta_data = ts.get_daily(symbol='MSFT', outputsize='full')\n",
    "aapl_data, aapl_meta_data = ts.get_daily(symbol='AAPL', outputsize='full')\n",
    "amzn_data, amzn_meta_data = ts.get_daily(symbol='AMZN', outputsize='full')"
   ]
  },
  {
   "cell_type": "code",
   "execution_count": 17,
   "metadata": {},
   "outputs": [],
   "source": [
    "df = pd.DataFrame(columns=['fb', 'msft', 'aapl', 'amzn'])"
   ]
  },
  {
   "cell_type": "code",
   "execution_count": 20,
   "metadata": {},
   "outputs": [
    {
     "name": "stdout",
     "output_type": "stream",
     "text": [
      "                 fb     msft     aapl      amzn\n",
      "date                                           \n",
      "2012-05-18   38.232   29.270  530.380   213.850\n",
      "2012-05-21   34.030   29.750  561.280   218.110\n",
      "2012-05-22   31.000   29.760  556.970   215.330\n",
      "2012-05-23   32.000   29.110  570.560   217.280\n",
      "2012-05-24   33.030   29.070  565.320   215.240\n",
      "2012-05-25   31.910   29.060  562.290   212.890\n",
      "2012-05-29   28.840   29.560  572.270   214.750\n",
      "2012-05-30   28.190   29.340  579.170   209.230\n",
      "2012-05-31   29.600   29.190  577.730   212.910\n",
      "2012-06-01   27.720   28.450  560.990   208.220\n",
      "2012-06-04   26.900   28.550  564.290   214.570\n",
      "2012-06-05   25.869   28.505  562.830   213.210\n",
      "2012-06-06   26.810   29.350  571.460   217.640\n",
      "2012-06-07   26.310   29.230  571.720   218.800\n",
      "2012-06-08   27.100   29.650  580.320   218.480\n",
      "2012-06-11   27.005   28.895  571.170   216.500\n",
      "2012-06-12   27.400   29.290  576.160   216.420\n",
      "2012-06-13   27.270   29.130  572.160   214.730\n",
      "2012-06-14   28.290   29.340  571.530   214.450\n",
      "2012-06-15   30.014   30.020  574.130   218.350\n",
      "2012-06-18   31.410   29.840  585.780   222.660\n",
      "2012-06-19   31.911   30.700  587.410   224.030\n",
      "2012-06-20   31.600   30.930  585.741   223.020\n",
      "2012-06-21   31.840   30.135  577.670   220.575\n",
      "2012-06-22   33.050   30.700  582.100   222.160\n",
      "2012-06-25   32.060   29.865  570.765   220.070\n",
      "2012-06-26   33.100   30.020  572.025   225.610\n",
      "2012-06-27   32.230   30.170  574.500   225.620\n",
      "2012-06-28   31.360   29.910  569.050   221.310\n",
      "2012-06-29   31.095   30.590  584.000   228.350\n",
      "...             ...      ...      ...       ...\n",
      "2019-08-23  177.750  133.390  202.640  1749.620\n",
      "2019-08-26  180.360  135.450  206.490  1768.870\n",
      "2019-08-27  181.300  135.740  204.160  1761.830\n",
      "2019-08-28  181.760  135.560  205.530  1764.250\n",
      "2019-08-29  185.570  138.120  209.010  1786.400\n",
      "2019-08-30  185.670  137.860  208.740  1776.290\n",
      "2019-09-03  182.390  136.040  205.700  1789.840\n",
      "2019-09-04  187.140  137.630  209.190  1800.620\n",
      "2019-09-05  190.900  140.050  213.280  1840.720\n",
      "2019-09-06  187.490  139.100  213.260  1833.510\n",
      "2019-09-09  188.760  137.520  214.170  1831.350\n",
      "2019-09-10  186.170  136.080  216.700  1820.550\n",
      "2019-09-11  188.490  136.120  223.590  1822.990\n",
      "2019-09-12  187.470  137.520  223.090  1843.550\n",
      "2019-09-13  187.190  137.320  218.750  1839.340\n",
      "2019-09-16  186.220  136.330  219.900  1807.840\n",
      "2019-09-17  188.080  137.390  220.700  1822.550\n",
      "2019-09-18  188.140  138.520  222.770  1817.460\n",
      "2019-09-19  190.140  141.070  220.960  1821.500\n",
      "2019-09-20  189.930  139.440  217.730  1794.160\n",
      "2019-09-23  186.820  139.140  218.720  1785.300\n",
      "2019-09-24  181.280  137.380  217.680  1741.610\n",
      "2019-09-25  182.800  139.360  221.030  1768.330\n",
      "2019-09-26  180.110  139.540  219.890  1739.840\n",
      "2019-09-27  177.100  137.730  218.820  1725.450\n",
      "2019-09-30  178.080  139.030  223.970  1735.910\n",
      "2019-10-01  175.810  137.070  224.590  1735.650\n",
      "2019-10-02  174.600  134.650  218.960  1713.230\n",
      "2019-10-03  179.380  136.280  220.820  1724.420\n",
      "2019-10-04  180.450  138.120  227.010  1739.650\n",
      "\n",
      "[1857 rows x 4 columns]\n"
     ]
    }
   ],
   "source": [
    "df['fb'] = fb_clean\n",
    "df['msft'] = msft_clean\n",
    "df['aapl'] = aapl_clean\n",
    "df['amzn'] = amzn_clean\n",
    "print(df)"
   ]
  },
  {
   "cell_type": "code",
   "execution_count": 18,
   "metadata": {},
   "outputs": [
    {
     "ename": "AttributeError",
     "evalue": "module 'pypfopt.expected_returns' has no attribute 'mean_historical'",
     "output_type": "error",
     "traceback": [
      "\u001b[0;31m---------------------------------------------------------------------------\u001b[0m",
      "\u001b[0;31mAttributeError\u001b[0m                            Traceback (most recent call last)",
      "\u001b[0;32m<ipython-input-18-03dddca5d8f3>\u001b[0m in \u001b[0;36m<module>\u001b[0;34m\u001b[0m\n\u001b[0;32m----> 1\u001b[0;31m \u001b[0mmu\u001b[0m \u001b[0;34m=\u001b[0m \u001b[0mexpected_returns\u001b[0m\u001b[0;34m.\u001b[0m\u001b[0mmean_historical\u001b[0m\u001b[0;34m(\u001b[0m\u001b[0mdf\u001b[0m\u001b[0;34m)\u001b[0m\u001b[0;34m\u001b[0m\u001b[0;34m\u001b[0m\u001b[0m\n\u001b[0m\u001b[1;32m      2\u001b[0m \u001b[0mS\u001b[0m \u001b[0;34m=\u001b[0m \u001b[0mrisk_models\u001b[0m\u001b[0;34m.\u001b[0m\u001b[0msample_cov\u001b[0m\u001b[0;34m(\u001b[0m\u001b[0mdf\u001b[0m\u001b[0;34m)\u001b[0m\u001b[0;34m\u001b[0m\u001b[0;34m\u001b[0m\u001b[0m\n\u001b[1;32m      3\u001b[0m \u001b[0mef\u001b[0m \u001b[0;34m=\u001b[0m \u001b[0mEfficientFrontier\u001b[0m\u001b[0;34m(\u001b[0m\u001b[0mmu\u001b[0m\u001b[0;34m,\u001b[0m \u001b[0mS\u001b[0m\u001b[0;34m)\u001b[0m\u001b[0;34m\u001b[0m\u001b[0;34m\u001b[0m\u001b[0m\n\u001b[1;32m      4\u001b[0m \u001b[0mweights\u001b[0m \u001b[0;34m=\u001b[0m \u001b[0mef\u001b[0m\u001b[0;34m.\u001b[0m\u001b[0mmax_sharpe\u001b[0m\u001b[0;34m(\u001b[0m\u001b[0;34m)\u001b[0m\u001b[0;34m\u001b[0m\u001b[0;34m\u001b[0m\u001b[0m\n\u001b[1;32m      5\u001b[0m \u001b[0mef\u001b[0m\u001b[0;34m.\u001b[0m\u001b[0mportfolio_performance\u001b[0m\u001b[0;34m(\u001b[0m\u001b[0mverbose\u001b[0m\u001b[0;34m=\u001b[0m\u001b[0;32mTrue\u001b[0m\u001b[0;34m)\u001b[0m\u001b[0;34m\u001b[0m\u001b[0;34m\u001b[0m\u001b[0m\n",
      "\u001b[0;31mAttributeError\u001b[0m: module 'pypfopt.expected_returns' has no attribute 'mean_historical'"
     ]
    }
   ],
   "source": [
    "mu = expected_returns.mean_historical(df)\n",
    "S = risk_models.sample_cov(df)\n",
    "ef = EfficientFrontier(mu, S)\n",
    "weights = ef.max_sharpe()\n",
    "ef.portfolio_performance(verbose=True)\n",
    "print(weights)"
   ]
  },
  {
   "cell_type": "code",
   "execution_count": 22,
   "metadata": {},
   "outputs": [
    {
     "name": "stdout",
     "output_type": "stream",
     "text": [
      "4 out of 4 tickers were removed\n"
     ]
    },
    {
     "ename": "IndexError",
     "evalue": "list index out of range",
     "output_type": "error",
     "traceback": [
      "\u001b[0;31m---------------------------------------------------------------------------\u001b[0m",
      "\u001b[0;31mIndexError\u001b[0m                                Traceback (most recent call last)",
      "\u001b[0;32m<ipython-input-22-8eb8740c2d26>\u001b[0m in \u001b[0;36m<module>\u001b[0;34m\u001b[0m\n\u001b[1;32m      1\u001b[0m \u001b[0mlatest_prices\u001b[0m \u001b[0;34m=\u001b[0m \u001b[0mget_latest_prices\u001b[0m\u001b[0;34m(\u001b[0m\u001b[0mdf\u001b[0m\u001b[0;34m)\u001b[0m\u001b[0;34m\u001b[0m\u001b[0;34m\u001b[0m\u001b[0m\n\u001b[1;32m      2\u001b[0m \u001b[0mda\u001b[0m \u001b[0;34m=\u001b[0m \u001b[0mDiscreteAllocation\u001b[0m\u001b[0;34m(\u001b[0m\u001b[0mweights\u001b[0m\u001b[0;34m,\u001b[0m \u001b[0mlatest_prices\u001b[0m\u001b[0;34m,\u001b[0m \u001b[0mtotal_portfolio_value\u001b[0m\u001b[0;34m=\u001b[0m\u001b[0;36m1000000\u001b[0m\u001b[0;34m)\u001b[0m\u001b[0;34m\u001b[0m\u001b[0;34m\u001b[0m\u001b[0m\n\u001b[0;32m----> 3\u001b[0;31m \u001b[0mallocation\u001b[0m\u001b[0;34m,\u001b[0m \u001b[0mleftover\u001b[0m \u001b[0;34m=\u001b[0m \u001b[0mda\u001b[0m\u001b[0;34m.\u001b[0m\u001b[0mgreedy_portfolio\u001b[0m\u001b[0;34m(\u001b[0m\u001b[0;34m)\u001b[0m\u001b[0;34m\u001b[0m\u001b[0;34m\u001b[0m\u001b[0m\n\u001b[0m\u001b[1;32m      4\u001b[0m \u001b[0mprint\u001b[0m\u001b[0;34m(\u001b[0m\u001b[0mallocation\u001b[0m\u001b[0;34m)\u001b[0m\u001b[0;34m\u001b[0m\u001b[0;34m\u001b[0m\u001b[0m\n",
      "\u001b[0;32m//anaconda3/lib/python3.7/site-packages/pypfopt/discrete_allocation.py\u001b[0m in \u001b[0;36mgreedy_portfolio\u001b[0;34m(self, verbose)\u001b[0m\n\u001b[1;32m    145\u001b[0m \u001b[0;34m\u001b[0m\u001b[0m\n\u001b[1;32m    146\u001b[0m         \u001b[0;31m# If portfolio contains shorts\u001b[0m\u001b[0;34m\u001b[0m\u001b[0;34m\u001b[0m\u001b[0;34m\u001b[0m\u001b[0m\n\u001b[0;32m--> 147\u001b[0;31m         \u001b[0;32mif\u001b[0m \u001b[0mself\u001b[0m\u001b[0;34m.\u001b[0m\u001b[0mweights\u001b[0m\u001b[0;34m[\u001b[0m\u001b[0;34m-\u001b[0m\u001b[0;36m1\u001b[0m\u001b[0;34m]\u001b[0m\u001b[0;34m[\u001b[0m\u001b[0;36m1\u001b[0m\u001b[0;34m]\u001b[0m \u001b[0;34m<\u001b[0m \u001b[0;36m0\u001b[0m\u001b[0;34m:\u001b[0m\u001b[0;34m\u001b[0m\u001b[0;34m\u001b[0m\u001b[0m\n\u001b[0m\u001b[1;32m    148\u001b[0m             \u001b[0mlongs\u001b[0m \u001b[0;34m=\u001b[0m \u001b[0;34m{\u001b[0m\u001b[0mt\u001b[0m\u001b[0;34m:\u001b[0m \u001b[0mw\u001b[0m \u001b[0;32mfor\u001b[0m \u001b[0mt\u001b[0m\u001b[0;34m,\u001b[0m \u001b[0mw\u001b[0m \u001b[0;32min\u001b[0m \u001b[0mself\u001b[0m\u001b[0;34m.\u001b[0m\u001b[0mweights\u001b[0m \u001b[0;32mif\u001b[0m \u001b[0mw\u001b[0m \u001b[0;34m>=\u001b[0m \u001b[0;36m0\u001b[0m\u001b[0;34m}\u001b[0m\u001b[0;34m\u001b[0m\u001b[0;34m\u001b[0m\u001b[0m\n\u001b[1;32m    149\u001b[0m             \u001b[0mshorts\u001b[0m \u001b[0;34m=\u001b[0m \u001b[0;34m{\u001b[0m\u001b[0mt\u001b[0m\u001b[0;34m:\u001b[0m \u001b[0;34m-\u001b[0m\u001b[0mw\u001b[0m \u001b[0;32mfor\u001b[0m \u001b[0mt\u001b[0m\u001b[0;34m,\u001b[0m \u001b[0mw\u001b[0m \u001b[0;32min\u001b[0m \u001b[0mself\u001b[0m\u001b[0;34m.\u001b[0m\u001b[0mweights\u001b[0m \u001b[0;32mif\u001b[0m \u001b[0mw\u001b[0m \u001b[0;34m<\u001b[0m \u001b[0;36m0\u001b[0m\u001b[0;34m}\u001b[0m\u001b[0;34m\u001b[0m\u001b[0;34m\u001b[0m\u001b[0m\n",
      "\u001b[0;31mIndexError\u001b[0m: list index out of range"
     ]
    }
   ],
   "source": [
    "latest_prices = get_latest_prices(df)\n",
    "da = DiscreteAllocation(weights, latest_prices, total_portfolio_value=1000000)\n",
    "allocation, leftover = da.greedy_portfolio()\n",
    "print(allocation)"
   ]
  },
  {
   "cell_type": "code",
   "execution_count": null,
   "metadata": {},
   "outputs": [],
   "source": []
  }
 ],
 "metadata": {
  "kernelspec": {
   "display_name": "Python 3",
   "language": "python",
   "name": "python3"
  },
  "language_info": {
   "codemirror_mode": {
    "name": "ipython",
    "version": 3
   },
   "file_extension": ".py",
   "mimetype": "text/x-python",
   "name": "python",
   "nbconvert_exporter": "python",
   "pygments_lexer": "ipython3",
   "version": "3.7.3"
  }
 },
 "nbformat": 4,
 "nbformat_minor": 2
}
